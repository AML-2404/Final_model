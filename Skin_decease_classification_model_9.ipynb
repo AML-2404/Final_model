{
 "cells": [
  {
   "cell_type": "code",
   "execution_count": 1,
   "id": "576b2b78",
   "metadata": {},
   "outputs": [],
   "source": [
    "import os\n",
    "import glob\n",
    "import cv2\n",
    "import numpy as np\n",
    "import pandas as pd\n",
    "from PIL import Image\n",
    "from pathlib import Path\n",
    "from keras.models import Sequential, Model, load_model\n",
    "from keras.applications.vgg16 import VGG16, preprocess_input\n",
    "from keras.preprocessing.image import ImageDataGenerator\n",
    "from tensorflow.keras.utils import load_img, img_to_array\n",
    "from keras.layers import Conv2D, MaxPooling2D, Dense, Dropout, Input, Flatten, Activation\n",
    "from keras.optimizers import Adam, SGD, RMSprop\n",
    "from keras.callbacks import Callback, EarlyStopping\n",
    "from sklearn.metrics import confusion_matrix\n",
    "from keras.utils import to_categorical\n",
    "from keras import backend as K\n",
    "import tensorflow as tf\n",
    "import matplotlib.pyplot as plt\n",
    "%matplotlib inline"
   ]
  },
  {
   "cell_type": "code",
   "execution_count": 2,
   "id": "a1c56a8c",
   "metadata": {},
   "outputs": [],
   "source": [
    "# define path to the data\n",
    "train_dir =  Path('Skin_dataset_trg')\n",
    "val_dir = Path('Skin_dataset_val')\n",
    "test_dir = Path('Skin_dataset_test')"
   ]
  },
  {
   "cell_type": "code",
   "execution_count": 3,
   "id": "b45e7bcb",
   "metadata": {},
   "outputs": [
    {
     "data": {
      "text/plain": [
       "['resized_data_class_1_Melanoma',\n",
       " 'resized_data_class_2_Nail_Fungus',\n",
       " 'resized_data_class_4_Viral Infections']"
      ]
     },
     "execution_count": 3,
     "metadata": {},
     "output_type": "execute_result"
    }
   ],
   "source": [
    "os.listdir(train_dir)"
   ]
  },
  {
   "cell_type": "code",
   "execution_count": 4,
   "id": "9c617031",
   "metadata": {},
   "outputs": [],
   "source": [
    "# Loding training dataset in to the pandas DF\n",
    "def load_train():\n",
    "    Melanoma_dir=train_dir/'resized_data_class_1_Melanoma'\n",
    "    Nail_Fungus_dir = train_dir/'resized_data_class_2_Nail_Fungus'\n",
    "    Viral_Infections_dir = train_dir/'resized_data_class_4_Viral Infections'\n",
    "    Melanoma = Melanoma_dir.glob('*.jpg')\n",
    "    Nail_Fungus = Nail_Fungus_dir.glob('*.jpg')\n",
    "    Viral_Infection = Viral_Infections_dir.glob('*.jpg')\n",
    "    train_data = []\n",
    "    train_label = []\n",
    "    \n",
    "    for img in Melanoma:\n",
    "        train_data.append(img)\n",
    "        train_label.append('Melanoma')\n",
    "    \n",
    "    for img in Nail_Fungus:\n",
    "        train_data.append(img)\n",
    "        train_label.append('Nail_Fungus')\n",
    "        \n",
    "    for img in Viral_Infection:\n",
    "        train_data.append(img)\n",
    "        train_label.append('Viral_Infection')\n",
    "        \n",
    "    df = pd.DataFrame(train_data)\n",
    "    df.columns = ['images']\n",
    "    df['labels']= train_label\n",
    "    df = df.sample(frac=1).reset_index(drop=True)\n",
    "    return df"
   ]
  },
  {
   "cell_type": "code",
   "execution_count": 5,
   "id": "27f92ffa",
   "metadata": {},
   "outputs": [
    {
     "data": {
      "text/html": [
       "<div>\n",
       "<style scoped>\n",
       "    .dataframe tbody tr th:only-of-type {\n",
       "        vertical-align: middle;\n",
       "    }\n",
       "\n",
       "    .dataframe tbody tr th {\n",
       "        vertical-align: top;\n",
       "    }\n",
       "\n",
       "    .dataframe thead th {\n",
       "        text-align: right;\n",
       "    }\n",
       "</style>\n",
       "<table border=\"1\" class=\"dataframe\">\n",
       "  <thead>\n",
       "    <tr style=\"text-align: right;\">\n",
       "      <th></th>\n",
       "      <th>images</th>\n",
       "      <th>labels</th>\n",
       "    </tr>\n",
       "  </thead>\n",
       "  <tbody>\n",
       "    <tr>\n",
       "      <th>0</th>\n",
       "      <td>Skin_dataset_trg\\resized_data_class_2_Nail_Fun...</td>\n",
       "      <td>Nail_Fungus</td>\n",
       "    </tr>\n",
       "    <tr>\n",
       "      <th>1</th>\n",
       "      <td>Skin_dataset_trg\\resized_data_class_2_Nail_Fun...</td>\n",
       "      <td>Nail_Fungus</td>\n",
       "    </tr>\n",
       "    <tr>\n",
       "      <th>2</th>\n",
       "      <td>Skin_dataset_trg\\resized_data_class_4_Viral In...</td>\n",
       "      <td>Viral_Infection</td>\n",
       "    </tr>\n",
       "    <tr>\n",
       "      <th>3</th>\n",
       "      <td>Skin_dataset_trg\\resized_data_class_1_Melanoma...</td>\n",
       "      <td>Melanoma</td>\n",
       "    </tr>\n",
       "    <tr>\n",
       "      <th>4</th>\n",
       "      <td>Skin_dataset_trg\\resized_data_class_2_Nail_Fun...</td>\n",
       "      <td>Nail_Fungus</td>\n",
       "    </tr>\n",
       "  </tbody>\n",
       "</table>\n",
       "</div>"
      ],
      "text/plain": [
       "                                              images           labels\n",
       "0  Skin_dataset_trg\\resized_data_class_2_Nail_Fun...      Nail_Fungus\n",
       "1  Skin_dataset_trg\\resized_data_class_2_Nail_Fun...      Nail_Fungus\n",
       "2  Skin_dataset_trg\\resized_data_class_4_Viral In...  Viral_Infection\n",
       "3  Skin_dataset_trg\\resized_data_class_1_Melanoma...         Melanoma\n",
       "4  Skin_dataset_trg\\resized_data_class_2_Nail_Fun...      Nail_Fungus"
      ]
     },
     "execution_count": 5,
     "metadata": {},
     "output_type": "execute_result"
    }
   ],
   "source": [
    "train_data = load_train()\n",
    "train_data.shape\n",
    "train_data.head()"
   ]
  },
  {
   "cell_type": "code",
   "execution_count": 6,
   "id": "14a8047c",
   "metadata": {},
   "outputs": [],
   "source": [
    "# Validation and Test data as np array\n",
    "def prepare_and_load(isval=True):\n",
    "    if isval==True:\n",
    "        Melanoma_dir=val_dir/'resized_data_class_1_Melanoma'\n",
    "        Nail_Fungus_dir = val_dir/'resized_data_class_2_Nail_Fungus'\n",
    "        Viral_Infections_dir = val_dir/'resized_data_class_4_Viral Infections'\n",
    "        \n",
    "    else:\n",
    "        Melanoma_dir=test_dir/'resized_data_class_1_Melanoma'\n",
    "        Nail_Fungus_dir = test_dir/'resized_data_class_2_Nail_Fungus'\n",
    "        Viral_Infections_dir = test_dir/'resized_data_class_4_Viral Infections'\n",
    "        \n",
    "    Melanoma = Melanoma_dir.glob('*.jpg')\n",
    "    Nail_Fungus = Nail_Fungus_dir.glob('*.jpg')\n",
    "    Viral_Infection = Viral_Infections_dir.glob('*.jpg')\n",
    "    data, labels = ([] for x in range(2))\n",
    "    def prepare(decease):\n",
    "        for img in decease:\n",
    "            img = cv2.imread(str(img))\n",
    "            img = cv2.cvtColor(img, cv2.COLOR_BGR2RGB)\n",
    "            img = img.astype(np.float32)/255\n",
    "            if decease == Melanoma:\n",
    "                label = to_categorical(0, num_classes=3)\n",
    "            elif decease == Nail_Fungus:\n",
    "                label = to_categorical(1, num_classes=3)\n",
    "            else:\n",
    "                label = to_categorical(2, num_classes=3)\n",
    "            \n",
    "            data.append(img)\n",
    "            labels.append(label)\n",
    "        return data, labels\n",
    "    prepare(Melanoma)\n",
    "    prepare(Viral_Infection)\n",
    "    d, l = prepare(Nail_Fungus)\n",
    "    d = np.array(d)\n",
    "    l = np.array(l)\n",
    "    return d, l"
   ]
  },
  {
   "cell_type": "code",
   "execution_count": 7,
   "id": "b1c35cea",
   "metadata": {},
   "outputs": [
    {
     "data": {
      "text/plain": [
       "684"
      ]
     },
     "execution_count": 7,
     "metadata": {},
     "output_type": "execute_result"
    }
   ],
   "source": [
    "val_data, val_label = prepare_and_load(isval=True)\n",
    "len(val_data)"
   ]
  },
  {
   "cell_type": "code",
   "execution_count": 8,
   "id": "5026b149",
   "metadata": {},
   "outputs": [
    {
     "data": {
      "text/plain": [
       "47"
      ]
     },
     "execution_count": 8,
     "metadata": {},
     "output_type": "execute_result"
    }
   ],
   "source": [
    "test_data, test_label = prepare_and_load(isval=False)\n",
    "len(test_data)"
   ]
  },
  {
   "cell_type": "code",
   "execution_count": 9,
   "id": "56a8878b",
   "metadata": {},
   "outputs": [],
   "source": [
    "# generate images in batches from the train set\n",
    "def data_gen(data, batch_size):\n",
    "    n = len(data)\n",
    "    steps = n//batch_size\n",
    "    \n",
    "    batch_data = np.zeros((batch_size, 224, 224, 3), dtype=np.float32)\n",
    "    batch_labels = np.zeros((batch_size, 3), dtype=np.float32)\n",
    "    \n",
    "    indices = np.arange(n)\n",
    "    \n",
    "    i=0\n",
    "    while True:\n",
    "        np.random.shuffle(indices)\n",
    "\n",
    "        count =0\n",
    "        next_batch = indices[(i*batch_size):(i+1)*batch_size]\n",
    "        for j, idx in enumerate(next_batch):\n",
    "            img_name = data.iloc[idx]['images']\n",
    "            label = data.iloc[idx]['labels']\n",
    "            if label== 'Melanoma':\n",
    "                label=0\n",
    "            elif label== 'Nail_Fungus':\n",
    "                label=1\n",
    "            else:\n",
    "                label=2\n",
    "            encoded_label = to_categorical(label, num_classes=3)\n",
    "            img = cv2.imread(str(img_name))\n",
    "\n",
    "            orig_img = cv2.cvtColor(img, cv2.COLOR_BGR2RGB)\n",
    "            orig_img = img.astype(np.float32)/255.\n",
    "\n",
    "            batch_data[count] = orig_img\n",
    "            batch_labels[count] = encoded_label\n",
    "\n",
    "            count+=1\n",
    "\n",
    "            if count==batch_size-1:\n",
    "                break\n",
    "\n",
    "        i+=1\n",
    "        yield batch_data, batch_labels\n",
    "\n",
    "        if i>=steps:\n",
    "            i=0"
   ]
  },
  {
   "cell_type": "code",
   "execution_count": 10,
   "id": "01490e04",
   "metadata": {},
   "outputs": [
    {
     "name": "stdout",
     "output_type": "stream",
     "text": [
      "Model: \"sequential\"\n",
      "_________________________________________________________________\n",
      " Layer (type)                Output Shape              Param #   \n",
      "=================================================================\n",
      " conv2d (Conv2D)             (None, 254, 254, 32)      896       \n",
      "                                                                 \n",
      " activation (Activation)     (None, 254, 254, 32)      0         \n",
      "                                                                 \n",
      " max_pooling2d (MaxPooling2D  (None, 127, 127, 32)     0         \n",
      " )                                                               \n",
      "                                                                 \n",
      " conv2d_1 (Conv2D)           (None, 125, 125, 32)      9248      \n",
      "                                                                 \n",
      " activation_1 (Activation)   (None, 125, 125, 32)      0         \n",
      "                                                                 \n",
      " max_pooling2d_1 (MaxPooling  (None, 62, 62, 32)       0         \n",
      " 2D)                                                             \n",
      "                                                                 \n",
      " conv2d_2 (Conv2D)           (None, 60, 60, 64)        18496     \n",
      "                                                                 \n",
      " activation_2 (Activation)   (None, 60, 60, 64)        0         \n",
      "                                                                 \n",
      " max_pooling2d_2 (MaxPooling  (None, 30, 30, 64)       0         \n",
      " 2D)                                                             \n",
      "                                                                 \n",
      " flatten (Flatten)           (None, 57600)             0         \n",
      "                                                                 \n",
      " dense (Dense)               (None, 64)                3686464   \n",
      "                                                                 \n",
      " activation_3 (Activation)   (None, 64)                0         \n",
      "                                                                 \n",
      " dense_1 (Dense)             (None, 3)                 195       \n",
      "                                                                 \n",
      " activation_4 (Activation)   (None, 3)                 0         \n",
      "                                                                 \n",
      "=================================================================\n",
      "Total params: 3,715,299\n",
      "Trainable params: 3,715,299\n",
      "Non-trainable params: 0\n",
      "_________________________________________________________________\n"
     ]
    }
   ],
   "source": [
    "# Model condiguration\n",
    "model = Sequential()\n",
    "model.add(Conv2D(32, (3,3), input_shape=(256,256,3)))\n",
    "model.add(Activation('relu'))\n",
    "model.add(MaxPooling2D(pool_size=(2,2)))\n",
    "\n",
    "model.add(Conv2D(32, (3,3)))\n",
    "model.add(Activation('relu'))\n",
    "model.add(MaxPooling2D(pool_size=(2,2)))\n",
    "\n",
    "model.add(Conv2D(64, (3,3)))\n",
    "model.add(Activation('relu'))\n",
    "model.add(MaxPooling2D(pool_size=(2,2)))\n",
    "\n",
    "model.add(Flatten())\n",
    "model.add(Dense(64))\n",
    "model.add(Activation('relu'))\n",
    "model.add(Dense(3))\n",
    "model.add(Activation('softmax'))\n",
    "model.summary()"
   ]
  },
  {
   "cell_type": "code",
   "execution_count": 25,
   "id": "191eb5cd",
   "metadata": {},
   "outputs": [],
   "source": [
    "batch_size = 16\n",
    "nb_epochs = 3"
   ]
  },
  {
   "cell_type": "code",
   "execution_count": 26,
   "id": "ea6712c8",
   "metadata": {},
   "outputs": [],
   "source": [
    "train_data_gen = data_gen(data=train_data, batch_size=batch_size)\n",
    "nb_train_steps = train_data.shape[0]//batch_size"
   ]
  },
  {
   "cell_type": "code",
   "execution_count": 27,
   "id": "8559c4ba",
   "metadata": {},
   "outputs": [],
   "source": [
    "# adding VGG16 pretained model to obtain better performances\n",
    "def vgg16_model(num_classes=None):\n",
    "    model = VGG16(weights='imagenet', include_top=True, input_shape=(224, 224, 3))\n",
    "    \n",
    "    x = Dense(1024, activation='relu')(model.layers[-4].output)\n",
    "#     x = Dropout(0.4)(x)\n",
    "    x = Dense(512, activation='relu')(x)\n",
    "#     x = Dropout(0.3)(x)\n",
    "    x = Dense(3, activation='softmax')(x)\n",
    "    model = Model(model.input, x)\n",
    "    \n",
    "    return model"
   ]
  },
  {
   "cell_type": "code",
   "execution_count": 15,
   "id": "4cc988ff",
   "metadata": {},
   "outputs": [],
   "source": [
    "vgg_conv = vgg16_model(3)\n",
    "for layer in vgg_conv.layers[: 10]:\n",
    "    layer.trainable = False"
   ]
  },
  {
   "cell_type": "code",
   "execution_count": 29,
   "id": "89e07723",
   "metadata": {},
   "outputs": [
    {
     "name": "stdout",
     "output_type": "stream",
     "text": [
      "Model: \"model\"\n",
      "_________________________________________________________________\n",
      " Layer (type)                Output Shape              Param #   \n",
      "=================================================================\n",
      " input_1 (InputLayer)        [(None, 224, 224, 3)]     0         \n",
      "                                                                 \n",
      " block1_conv1 (Conv2D)       (None, 224, 224, 64)      1792      \n",
      "                                                                 \n",
      " block1_conv2 (Conv2D)       (None, 224, 224, 64)      36928     \n",
      "                                                                 \n",
      " block1_pool (MaxPooling2D)  (None, 112, 112, 64)      0         \n",
      "                                                                 \n",
      " block2_conv1 (Conv2D)       (None, 112, 112, 128)     73856     \n",
      "                                                                 \n",
      " block2_conv2 (Conv2D)       (None, 112, 112, 128)     147584    \n",
      "                                                                 \n",
      " block2_pool (MaxPooling2D)  (None, 56, 56, 128)       0         \n",
      "                                                                 \n",
      " block3_conv1 (Conv2D)       (None, 56, 56, 256)       295168    \n",
      "                                                                 \n",
      " block3_conv2 (Conv2D)       (None, 56, 56, 256)       590080    \n",
      "                                                                 \n",
      " block3_conv3 (Conv2D)       (None, 56, 56, 256)       590080    \n",
      "                                                                 \n",
      " block3_pool (MaxPooling2D)  (None, 28, 28, 256)       0         \n",
      "                                                                 \n",
      " block4_conv1 (Conv2D)       (None, 28, 28, 512)       1180160   \n",
      "                                                                 \n",
      " block4_conv2 (Conv2D)       (None, 28, 28, 512)       2359808   \n",
      "                                                                 \n",
      " block4_conv3 (Conv2D)       (None, 28, 28, 512)       2359808   \n",
      "                                                                 \n",
      " block4_pool (MaxPooling2D)  (None, 14, 14, 512)       0         \n",
      "                                                                 \n",
      " block5_conv1 (Conv2D)       (None, 14, 14, 512)       2359808   \n",
      "                                                                 \n",
      " block5_conv2 (Conv2D)       (None, 14, 14, 512)       2359808   \n",
      "                                                                 \n",
      " block5_conv3 (Conv2D)       (None, 14, 14, 512)       2359808   \n",
      "                                                                 \n",
      " block5_pool (MaxPooling2D)  (None, 7, 7, 512)         0         \n",
      "                                                                 \n",
      " flatten (Flatten)           (None, 25088)             0         \n",
      "                                                                 \n",
      " dense_2 (Dense)             (None, 1024)              25691136  \n",
      "                                                                 \n",
      " dense_3 (Dense)             (None, 512)               524800    \n",
      "                                                                 \n",
      " dense_4 (Dense)             (None, 3)                 1539      \n",
      "                                                                 \n",
      "=================================================================\n",
      "Total params: 40,932,163\n",
      "Trainable params: 39,196,675\n",
      "Non-trainable params: 1,735,488\n",
      "_________________________________________________________________\n"
     ]
    }
   ],
   "source": [
    "vgg_conv.summary()"
   ]
  },
  {
   "cell_type": "code",
   "execution_count": 16,
   "id": "7648317a",
   "metadata": {},
   "outputs": [
    {
     "name": "stderr",
     "output_type": "stream",
     "text": [
      "C:\\Users\\laptophut\\anaconda3\\lib\\site-packages\\keras\\optimizers\\optimizer_v2\\adam.py:114: UserWarning: The `lr` argument is deprecated, use `learning_rate` instead.\n",
      "  super().__init__(name, **kwargs)\n"
     ]
    }
   ],
   "source": [
    "opt = Adam(lr=0.0001, decay = 1e-5)\n",
    "vgg_conv.compile(loss= 'binary_crossentropy', metrics= ['accuracy'], optimizer = opt)"
   ]
  },
  {
   "cell_type": "code",
   "execution_count": 17,
   "id": "33851e5f",
   "metadata": {},
   "outputs": [
    {
     "name": "stdout",
     "output_type": "stream",
     "text": [
      "Epoch 1/3\n",
      "106/106 [==============================] - 1682s 16s/step - loss: 0.3639 - accuracy: 0.6993 - val_loss: 0.3398 - val_accuracy: 0.8450\n",
      "Epoch 2/3\n",
      "106/106 [==============================] - 1634s 15s/step - loss: 0.2942 - accuracy: 0.7671 - val_loss: 0.2179 - val_accuracy: 0.8743\n",
      "Epoch 3/3\n",
      "106/106 [==============================] - 1640s 16s/step - loss: 0.1842 - accuracy: 0.8278 - val_loss: 0.3392 - val_accuracy: 0.7968\n"
     ]
    }
   ],
   "source": [
    "histrory = vgg_conv.fit(train_data_gen, epochs=nb_epochs, steps_per_epoch=nb_train_steps, validation_data = (val_data, val_label))"
   ]
  },
  {
   "cell_type": "code",
   "execution_count": 18,
   "id": "d62e08f8",
   "metadata": {},
   "outputs": [
    {
     "name": "stdout",
     "output_type": "stream",
     "text": [
      "3/3 [==============================] - 18s 6s/step\n"
     ]
    }
   ],
   "source": [
    "pred = vgg_conv.predict(test_data, batch_size=16)\n",
    "pred = np.argmax(pred, axis=-1)"
   ]
  },
  {
   "cell_type": "code",
   "execution_count": 19,
   "id": "27d2eec8",
   "metadata": {},
   "outputs": [],
   "source": [
    "from sklearn.metrics import classification_report, confusion_matrix"
   ]
  },
  {
   "cell_type": "code",
   "execution_count": 20,
   "id": "fae7d11c",
   "metadata": {},
   "outputs": [
    {
     "name": "stdout",
     "output_type": "stream",
     "text": [
      "              precision    recall  f1-score   support\n",
      "\n",
      "           0       0.68      1.00      0.81        15\n",
      "           1       0.84      1.00      0.91        16\n",
      "           2       1.00      0.38      0.55        16\n",
      "\n",
      "    accuracy                           0.79        47\n",
      "   macro avg       0.84      0.79      0.76        47\n",
      "weighted avg       0.84      0.79      0.76        47\n",
      "\n"
     ]
    }
   ],
   "source": [
    "labels = np.argmax(test_label, axis=-1)\n",
    "print(classification_report(labels, pred))"
   ]
  },
  {
   "cell_type": "code",
   "execution_count": 21,
   "id": "15523fcf",
   "metadata": {},
   "outputs": [
    {
     "data": {
      "text/plain": [
       "array([[15,  0,  0],\n",
       "       [ 0, 16,  0],\n",
       "       [ 7,  3,  6]], dtype=int64)"
      ]
     },
     "execution_count": 21,
     "metadata": {},
     "output_type": "execute_result"
    }
   ],
   "source": [
    "confusion_matrix(labels, pred)"
   ]
  },
  {
   "cell_type": "code",
   "execution_count": 22,
   "id": "7244c637",
   "metadata": {},
   "outputs": [
    {
     "data": {
      "image/png": "[encoded data removed]",
      "text/plain": [
       "<Figure size 432x288 with 1 Axes>"
      ]
     },
     "metadata": {
      "needs_background": "light"
     },
     "output_type": "display_data"
    }
   ],
   "source": [
    "fig = plt.figure()\n",
    "plt.plot(histrory.history['loss'], color='teal', label='loss')\n",
    "plt.plot(histrory.history['val_loss'], color='orange', label='val_loss')\n",
    "fig.suptitle('Loss', fontsize=20)\n",
    "plt.legend(loc=\"upper left\")\n",
    "plt.show()"
   ]
  },
  {
   "cell_type": "code",
   "execution_count": 23,
   "id": "2089edc7",
   "metadata": {},
   "outputs": [
    {
     "data": {
      "image/png": "[encoded data removed]",
      "text/plain": [
       "<Figure size 432x288 with 1 Axes>"
      ]
     },
     "metadata": {
      "needs_background": "light"
     },
     "output_type": "display_data"
    }
   ],
   "source": [
    "fig = plt.figure()\n",
    "plt.plot(histrory.history['accuracy'], color='teal', label='Accuracy')\n",
    "plt.plot(histrory.history['val_accuracy'], color='orange', label='val_Accuracy')\n",
    "fig.suptitle('Accuracy', fontsize=20)\n",
    "plt.legend(loc=\"upper left\")\n",
    "plt.show()"
   ]
  },
  {
   "cell_type": "code",
   "execution_count": 24,
   "id": "efaaddd4",
   "metadata": {},
   "outputs": [
    {
     "name": "stdout",
     "output_type": "stream",
     "text": [
      "WARNING:tensorflow:Compiled the loaded model, but the compiled metrics have yet to be built. `model.compile_metrics` will be empty until you train or evaluate the model.\n"
     ]
    }
   ],
   "source": [
    "model.save(\"model_9.h5\")"
   ]
  },
  {
   "cell_type": "code",
   "execution_count": null,
   "id": "34c0b606",
   "metadata": {},
   "outputs": [],
   "source": []
  }
 ],
 "metadata": {
  "kernelspec": {
   "display_name": "Python 3 (ipykernel)",
   "language": "python",
   "name": "python3"
  },
  "language_info": {
   "codemirror_mode": {
    "name": "ipython",
    "version": 3
   },
   "file_extension": ".py",
   "mimetype": "text/x-python",
   "name": "python",
   "nbconvert_exporter": "python",
   "pygments_lexer": "ipython3",
   "version": "3.9.12"
  }
 },
 "nbformat": 4,
 "nbformat_minor": 5
}
